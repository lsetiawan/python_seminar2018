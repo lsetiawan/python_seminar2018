{
 "cells": [
  {
   "cell_type": "markdown",
   "metadata": {
    "slideshow": {
     "slide_type": "slide"
    }
   },
   "source": [
    "# Python and R via JupyterHub and server RStudio\n",
    "\n",
    "by Landung Setiawan"
   ]
  },
  {
   "cell_type": "markdown",
   "metadata": {
    "slideshow": {
     "slide_type": "slide"
    }
   },
   "source": [
    "## Motivation\n",
    "\n",
    "- IOOS BioData Workshop: https://github.com/ioos/BioData-Training-Workshop\n",
    "    - Trying to accomodate 50% Python and 50% R"
   ]
  },
  {
   "cell_type": "markdown",
   "metadata": {
    "slideshow": {
     "slide_type": "slide"
    }
   },
   "source": [
    "## Technologies\n",
    "\n",
    "- Docker\n",
    "- Amazon Web Services\n",
    "- Helm\n",
    "- Jupyterhub\n",
    "- Kubernetes\n",
    "- Python\n",
    "- R"
   ]
  },
  {
   "cell_type": "markdown",
   "metadata": {
    "slideshow": {
     "slide_type": "slide"
    }
   },
   "source": [
    "## Setup\n",
    "\n",
    "Zero to JupyterHub: https://zero-to-jupyterhub.readthedocs.io/en/latest/\n",
    "- Developed by BIDS (Berkeley Institute for Data Science) & Team Jupyter"
   ]
  },
  {
   "cell_type": "markdown",
   "metadata": {
    "slideshow": {
     "slide_type": "slide"
    }
   },
   "source": [
    "### Docker\n",
    "\n",
    "[**Docker**](https://www.docker.com/) wraps software in a complete filesystem which guarantees that the software will run the same in different computing environments.  It works on Linux, OS X and Windows."
   ]
  },
  {
   "cell_type": "markdown",
   "metadata": {
    "slideshow": {
     "slide_type": "slide"
    }
   },
   "source": [
    "### Amazon Web Services\n",
    "\n",
    "Cloud Computing platform."
   ]
  },
  {
   "cell_type": "markdown",
   "metadata": {
    "slideshow": {
     "slide_type": "fragment"
    }
   },
   "source": [
    "- Cloud Formation: \n",
    "    - EC2\n",
    "    - Load balancers\n",
    "    - VPC\n",
    "    - S3 Bucket"
   ]
  }
 ],
 "metadata": {
  "celltoolbar": "Slideshow",
  "kernelspec": {
   "display_name": "Python 3",
   "language": "python",
   "name": "python3"
  },
  "language_info": {
   "codemirror_mode": {
    "name": "ipython",
    "version": 3
   },
   "file_extension": ".py",
   "mimetype": "text/x-python",
   "name": "python",
   "nbconvert_exporter": "python",
   "pygments_lexer": "ipython3",
   "version": "3.6.4"
  }
 },
 "nbformat": 4,
 "nbformat_minor": 2
}
