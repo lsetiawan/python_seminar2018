{
 "cells": [
  {
   "cell_type": "markdown",
   "metadata": {
    "slideshow": {
     "slide_type": "slide"
    }
   },
   "source": [
    "# Python and R via JupyterHub and server RStudio\n",
    "\n",
    "by Landung Setiawan"
   ]
  },
  {
   "cell_type": "markdown",
   "metadata": {
    "slideshow": {
     "slide_type": "slide"
    }
   },
   "source": [
    "## Motivation\n",
    "\n",
    "- IOOS BioData Workshop: https://github.com/ioos/BioData-Training-Workshop\n",
    "    - Trying to accomodate 50% Python and 50% R"
   ]
  },
  {
   "cell_type": "markdown",
   "metadata": {
    "slideshow": {
     "slide_type": "slide"
    }
   },
   "source": [
    "## Technologies\n",
    "\n",
    "- Docker\n",
    "- Amazon Web Services\n",
    "- Helm\n",
    "- Jupyterhub\n",
    "- Kubernetes\n",
    "- Python\n",
    "- R"
   ]
  },
  {
   "cell_type": "markdown",
   "metadata": {
    "slideshow": {
     "slide_type": "slide"
    }
   },
   "source": [
    "## Setup\n",
    "\n",
    "Zero to JupyterHub: https://zero-to-jupyterhub.readthedocs.io/en/latest/\n",
    "- Developed by BIDS (Berkeley Institute for Data Science) & Team Jupyter"
   ]
  },
  {
   "cell_type": "markdown",
   "metadata": {
    "slideshow": {
     "slide_type": "fragment"
    }
   },
   "source": [
    "<img src='../img/z2j.png'>"
   ]
  },
  {
   "cell_type": "markdown",
   "metadata": {
    "slideshow": {
     "slide_type": "slide"
    }
   },
   "source": [
    "## Stepping through each technology"
   ]
  },
  {
   "cell_type": "markdown",
   "metadata": {
    "slideshow": {
     "slide_type": "slide"
    }
   },
   "source": [
    "<img src='https://dkru86weszx9t.cloudfront.net/blog/wp-content/uploads/2017/02/BEAR-WITH-ME-.jpg'>\n",
    "source: https://www.grammarly.com/blog/bear-with-me/"
   ]
  },
  {
   "cell_type": "markdown",
   "metadata": {
    "slideshow": {
     "slide_type": "slide"
    }
   },
   "source": [
    "### Docker\n",
    "\n",
    "[**Docker**](https://www.docker.com/) wraps software in a complete filesystem which guarantees that the software will run the same in different computing environments.  It works on Linux, OS X and Windows."
   ]
  },
  {
   "cell_type": "markdown",
   "metadata": {
    "slideshow": {
     "slide_type": "slide"
    }
   },
   "source": [
    "#### Great resources to start playing with Docker\n",
    "\n",
    "- Tutorials: https://training.play-with-docker.com/alacart/\n",
    "- Just play: https://labs.play-with-docker.com/ (NEED Docker Login. It's free. Go create one!)"
   ]
  },
  {
   "cell_type": "markdown",
   "metadata": {
    "slideshow": {
     "slide_type": "slide"
    }
   },
   "source": [
    "# Demo"
   ]
  },
  {
   "cell_type": "markdown",
   "metadata": {
    "slideshow": {
     "slide_type": "slide"
    }
   },
   "source": [
    "### Amazon Web Services (AWS)\n",
    "\n",
    "Cloud Computing platform.\n",
    "\n",
    "AWS has many features (I am not going to go in details)!\n",
    "\n",
    "Great resource for anythin cloud related: https://cloudmaven.github.io/documentation/"
   ]
  },
  {
   "cell_type": "markdown",
   "metadata": {
    "slideshow": {
     "slide_type": "fragment"
    }
   },
   "source": [
    "This setup uses some of the features:\n",
    "\n",
    "- Cloud Formation: \n",
    "    - EC2\n",
    "    - Load balancers\n",
    "    - VPC\n",
    "    - S3 Bucket"
   ]
  },
  {
   "cell_type": "markdown",
   "metadata": {
    "slideshow": {
     "slide_type": "slide"
    }
   },
   "source": [
    "# Let's have a look"
   ]
  },
  {
   "cell_type": "markdown",
   "metadata": {
    "slideshow": {
     "slide_type": "slide"
    }
   },
   "source": [
    "### Helm\n",
    "\n",
    "Helm is a tool for managing Kubernetes charts. Charts are packages of pre-configured Kubernetes resources.\n",
    "\n",
    "Example of a chart: https://raw.githubusercontent.com/jupyterhub/zero-to-jupyterhub-k8s/master/jupyterhub/Chart.yaml"
   ]
  },
  {
   "cell_type": "markdown",
   "metadata": {
    "slideshow": {
     "slide_type": "slide"
    }
   },
   "source": [
    "# See helm setup"
   ]
  },
  {
   "cell_type": "markdown",
   "metadata": {
    "slideshow": {
     "slide_type": "slide"
    }
   },
   "source": [
    "### Jupyterhub\n",
    "\n",
    "A way to give a Jupyter Notebook server to each person in a group.\n",
    "\n",
    "Great slides about Jupyterhub: https://www.slideshare.net/willingc/jupyterhub-a-thing-explainer-overview\n",
    "\n",
    "<img src='../img/jupyterhub_thing_explain.jpg'>"
   ]
  },
  {
   "cell_type": "markdown",
   "metadata": {
    "slideshow": {
     "slide_type": "slide"
    }
   },
   "source": [
    "For those that doesn't know what Jupyter Notebook is\n",
    "\n",
    "- A Jupyter Notebook App is a web application for running and sharing notebook documents.\n",
    "- A notebook document can contain code and other elements that are executable via a kernel. It can also contain rich text and figures.\n",
    "- A kernel executes the code in a notebook document. A kernel can be an environment (e.g. a conda environment)\n",
    "- A Jupyter Notebook can help encourage collaboration, and reduces the need to “reinvent the wheel”\n",
    "\n",
    "Resource: http://jupyter-notebook-beginner-guide.readthedocs.io/en/latest/what_is_jupyter.html"
   ]
  },
  {
   "cell_type": "markdown",
   "metadata": {
    "slideshow": {
     "slide_type": "slide"
    }
   },
   "source": [
    "# Demo on AWS of Jupyterhub"
   ]
  },
  {
   "cell_type": "markdown",
   "metadata": {
    "slideshow": {
     "slide_type": "slide"
    }
   },
   "source": [
    "### Kubernetes\n",
    "\n",
    "Kubernetes is an open-source system for automating deployment, scaling, and management of containerized applications (in this case Docker containers).\n",
    "\n",
    "Source: https://kubernetes.io/"
   ]
  },
  {
   "cell_type": "markdown",
   "metadata": {
    "slideshow": {
     "slide_type": "slide"
    }
   },
   "source": [
    "## Rough Setup\n",
    "\n",
    "<img src='../img/serveimage.jpeg'>"
   ]
  },
  {
   "cell_type": "markdown",
   "metadata": {
    "slideshow": {
     "slide_type": "slide"
    }
   },
   "source": [
    "# Demo"
   ]
  },
  {
   "cell_type": "markdown",
   "metadata": {
    "slideshow": {
     "slide_type": "slide"
    }
   },
   "source": [
    "# How `Python` and `Geosciences` come into this?"
   ]
  },
  {
   "cell_type": "markdown",
   "metadata": {
    "slideshow": {
     "slide_type": "slide"
    }
   },
   "source": [
    "## This setup provides a great infrastructure for teaching Geospatial tools."
   ]
  },
  {
   "cell_type": "markdown",
   "metadata": {
    "slideshow": {
     "slide_type": "fragment"
    }
   },
   "source": [
    "- Common working environment (libraries, os, etc.)"
   ]
  },
  {
   "cell_type": "markdown",
   "metadata": {
    "slideshow": {
     "slide_type": "fragment"
    }
   },
   "source": [
    "- Scalable (Though be aware that current AWS setup does not autoscale)"
   ]
  },
  {
   "cell_type": "markdown",
   "metadata": {
    "slideshow": {
     "slide_type": "fragment"
    }
   },
   "source": [
    "- Cost effective"
   ]
  },
  {
   "cell_type": "markdown",
   "metadata": {
    "slideshow": {
     "slide_type": "slide"
    }
   },
   "source": [
    "# Thank you\n",
    "\n",
    "\n",
    "Contact:<br>\n",
    "landungs@uw.edu<br>\n",
    "https://github.com/lsetiawan"
   ]
  }
 ],
 "metadata": {
  "celltoolbar": "Slideshow",
  "kernelspec": {
   "display_name": "Python 3",
   "language": "python",
   "name": "python3"
  },
  "language_info": {
   "codemirror_mode": {
    "name": "ipython",
    "version": 3
   },
   "file_extension": ".py",
   "mimetype": "text/x-python",
   "name": "python",
   "nbconvert_exporter": "python",
   "pygments_lexer": "ipython3",
   "version": "3.6.4"
  }
 },
 "nbformat": 4,
 "nbformat_minor": 2
}
